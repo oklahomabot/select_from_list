{
 "cells": [
  {
   "cell_type": "code",
   "execution_count": 4,
   "metadata": {},
   "outputs": [],
   "source": [
    "def select_from_list(my_list, description='Enter the item number '):\n",
    "    '''\n",
    "    Returns value of the item the user selects\n",
    "    If there is only one item it is chosen automatically\n",
    "    'CANCEL' is returned if user cancels, 'EMPTY' if the list is empty\n",
    "    User is prompted until they select an item or enter 0 to Cancel\n",
    "    List items displayed in two columns if more than 5 items\n",
    "    '''\n",
    "\n",
    "    choice = ''\n",
    "    length = len(my_list)\n",
    "\n",
    "    if length == 0:\n",
    "        return 'EMPTY'\n",
    "    elif length == 1:\n",
    "        return my_list[0]\n",
    "    else:\n",
    "        if length > 5:\n",
    "            # Two Column Output\n",
    "            temp_row = ''\n",
    "            rows = int(length/2+0.5)\n",
    "            for row_num in range(rows):\n",
    "                temp_row = (f'({row_num + 1:02}) {my_list[row_num]}').ljust(30)\n",
    "                # add second column if there is one\n",
    "                if row_num + rows < length:\n",
    "                    temp_row = (temp_row + f'({row_num + rows + 1:02}) ' +\n",
    "                                f'{my_list[row_num + rows]}').ljust(30)\n",
    "                print(temp_row)\n",
    "        else:\n",
    "            for index, item in enumerate(my_list):\n",
    "                print(f'({index+1:02}) {item}')\n",
    "\n",
    "        while choice not in range(length+1):\n",
    "            try:\n",
    "                print(f'{description} (0 to cancel)', end=' ')\n",
    "                choice = int(input())\n",
    "            except:\n",
    "                continue\n",
    "        if choice == 0:\n",
    "            return 'CANCEL'\n",
    "    return (my_list[choice-1])\n"
   ]
  },
  {
   "cell_type": "code",
   "execution_count": 5,
   "metadata": {},
   "outputs": [
    {
     "name": "stdout",
     "output_type": "stream",
     "text": [
      "Dictionary of 30 lists created\n"
     ]
    },
    {
     "name": "stdin",
     "output_type": "stream",
     "text": [
      "How many options do you want to see? 15\n"
     ]
    },
    {
     "name": "stdout",
     "output_type": "stream",
     "text": [
      "(01) Option #01               (09) Option #09\n",
      "(02) Option #02               (10) Option #10\n",
      "(03) Option #03               (11) Option #11\n",
      "(04) Option #04               (12) Option #12\n",
      "(05) Option #05               (13) Option #13\n",
      "(06) Option #06               (14) Option #14\n",
      "(07) Option #07               (15) Option #15\n",
      "(08) Option #08               \n",
      "Enter the item number  (0 to cancel) "
     ]
    },
    {
     "name": "stdin",
     "output_type": "stream",
     "text": [
      " 9\n"
     ]
    },
    {
     "name": "stdout",
     "output_type": "stream",
     "text": [
      "The user chose Option #09\n"
     ]
    }
   ],
   "source": [
    "# Generator of Lists with the number of items\n",
    "# equal to the list number\n",
    "list_dic = {}\n",
    "how_many_lists = 30\n",
    "for num in range(1,how_many_lists+1):\n",
    "    listid=(f'list{num}')\n",
    "    list_dic[listid]=[]\n",
    "    for index_num in range(num):\n",
    "        list_dic[listid].append(f'Option #{index_num + 1:02}')\n",
    "print(f'Dictionary of {how_many_lists} lists created')        \n",
    "\n",
    "choice = input('How many options do you want to see?')\n",
    "choice = select_from_list(list_dic['list' + choice])\n",
    "print(f'The user chose {choice}')"
   ]
  }
 ],
 "metadata": {
  "kernelspec": {
   "display_name": "Python 3",
   "language": "python",
   "name": "python3"
  },
  "language_info": {
   "codemirror_mode": {
    "name": "ipython",
    "version": 3
   },
   "file_extension": ".py",
   "mimetype": "text/x-python",
   "name": "python",
   "nbconvert_exporter": "python",
   "pygments_lexer": "ipython3",
   "version": "3.8.5"
  }
 },
 "nbformat": 4,
 "nbformat_minor": 4
}
